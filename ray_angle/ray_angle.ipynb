{
 "cells": [
  {
   "cell_type": "code",
   "execution_count": 1,
   "id": "c8e69eee",
   "metadata": {},
   "outputs": [],
   "source": [
    "from scipy.signal import lfilter\n",
    "import matplotlib.pyplot as plt\n",
    "import matplotlib\n",
    "%matplotlib inline\n",
    "from statistics import mean\n",
    "from scipy import integrate\n",
    "from scipy.signal import savgol_filter\n",
    "import pandas as pd\n",
    "import numpy as np\n",
    "import statistics\n",
    "import copy\n",
    "from pandas import *\n",
    "import imageio\n",
    "import moviepy.editor as mp\n",
    "import matplotlib.colors as colors"
   ]
  },
  {
   "cell_type": "code",
   "execution_count": 2,
   "id": "b6f4c02e",
   "metadata": {},
   "outputs": [],
   "source": [
    "## acc voltage to real units conversion factor\n",
    "## [y1,x1,z1, y2,x2,z2]\n",
    "conv_12 = [0.0064729,0.0061162,0.006218144,0.00601427,0.00601427,0.00601427]\n",
    "conv_57  = [0.0328, 0.0325, 0.0322, 0.0324, 0.0328, 0.0327]\n",
    "# positions \n",
    "z = [-5]*12 + [-7]*12 + [-3]*12 # depth \n",
    "r = [6,-6,10,-10,8,-8,12,-12,7,-7,11,-11]*3 # radial "
   ]
  },
  {
   "cell_type": "code",
   "execution_count": 242,
   "id": "708cfdb7",
   "metadata": {},
   "outputs": [],
   "source": [
    "## This script is created for velocity flow field measurement \n",
    "## for a single angle experiment we need 18 files to compute the profile"
   ]
  },
  {
   "cell_type": "code",
   "execution_count": 3,
   "id": "0f66c28a",
   "metadata": {},
   "outputs": [],
   "source": [
    "def pack(import_file_name, col_list, conv): # pack csv data to arrays \n",
    "    # import data using pandas\n",
    "    col = ['Time', 'Channel A', 'Channel B', 'Channel C','Channel E','Channel F','Channel G'] # define columns\n",
    "    data_pd = pd.read_csv(import_file_name, usecols = col_list)   # array in pandas\n",
    "    # create empty output data pack \n",
    "    # data structure: [time, channel_a, channel_b, channel_c,...]\n",
    "    output_datapack = np.linspace(0,0,np.size(col_list)).tolist()\n",
    "    # conversion to str list\n",
    "    for i in range(np.size(col_list)):\n",
    "        output_datapack[i] = data_pd[col[i]][1:].tolist() \n",
    "        if i == 0: # time\n",
    "            output_datapack[i] = [float(\"{0:.6f}\".format(float(j)*1000)) for j in output_datapack[i]] # convert to float\n",
    "        else:\n",
    "            output_datapack[i] = [float(j) for j in output_datapack[i]]\n",
    "            zero = mean(output_datapack[i][20:200]) # baseline for shifting and aligning \"zero\" accelerations to zero\n",
    "            output_datapack[i] = [float(j-zero)/conv[i-1] for j in output_datapack[i]] # voltage to acceleration conversion\n",
    "            #output_datapack[i] = [abs(j) for j in output_datapack[i]] # making all channel abs \n",
    "#             index = find_onset(output_datapack[i])\n",
    "#             output_datapack[i][0:index] = np.linspace(0,0,index)\n",
    "    return output_datapack\n",
    "\n",
    "def align(data, time_cutoff):\n",
    "    time_cutoff = [t for t in time_cutoff for _ in range(2)] # extend array \n",
    "    for i in range(np.shape(data)[0]):\n",
    "        data[i][0] = [t - time_cutoff[i] for t in data[i][0]] # make time adjustment s.t. time is shifted to impact time\n",
    "        data[i][0] = [float(\"{:.2f}\".format(t)) for t in data[i][0] if t >= 0] # pop out negative values \n",
    "        data[i][0] = [float(\"{:.2f}\".format(t-data[i][0][0])) for t in data[i][0]] # make sure impact time is zero\n",
    "        for j in range(1,np.shape(data)[1]):\n",
    "            data[i][j] = data[i][j][(len(data[i][j])-len(data[i][0])):] # align acc values \n",
    "    return data\n",
    "\n",
    "def integrate_accel(channel, Time):\n",
    "    velocity = np.zeros(np.size(Time)).tolist()\n",
    "    running_sum = 0\n",
    "    for i in range(np.size(Time)-1):\n",
    "        dv = 0.5*((channel[i])+(channel[i+1]))*((Time[i+1]-Time[i])/1000)\n",
    "        running_sum += dv\n",
    "        velocity[i] = running_sum\n",
    "        velocity[i+1] = running_sum\n",
    "    return velocity\n",
    "\n",
    "def integrate(data):\n",
    "    velocity = copy.deepcopy(data)\n",
    "    for i in range(np.shape(data)[0]):\n",
    "        for j in range(1,np.shape(data)[1]):\n",
    "            velocity[i][j] = integrate_accel(data[i][j][0:2000],data[i][0][0:2000])\n",
    "            velocity[i][0] = velocity[i][0][0:2000]\n",
    "    return velocity \n",
    "\n",
    "def create_gv(data, iterations, sp, fps, angle):\n",
    "    # Create the GIF Video writer\n",
    "    writer = imageio.get_writer(str(angle)+\"gf.gif\", mode='I', duration=1/fps)\n",
    "    for i in range(0,iterations,sp):\n",
    "        fig, ax = plt.subplots()\n",
    "        ax.set_aspect('equal')\n",
    "        plt.text(-1.5,-7.5, r\"$\\theta_i=$\"+str(angle)+r\"$^\\circ$\", fontsize = 8)\n",
    "        plt.text(-3,-8.7, 'Time: '+str(\"%.2f\" %data[0][0][i])+'ms', fontsize=8) # text time\n",
    "        # draw impact point\n",
    "        plt.quiver(0,0,np.cos(angle*np.pi/180),-np.sin(angle*np.pi/180),scale=7,color='red')\n",
    "        plt.plot(0,0,'o',color='red',markersize=12)\n",
    "        # draw surface\n",
    "        y = np.linspace(0,0,200)\n",
    "        x = np.linspace(-25,25,200)\n",
    "        plt.plot(x,y,linewidth=10,color='grey',alpha=0.5)\n",
    "        # draw points\n",
    "        plt.plot(r,z,'o',markersize=0.5,color='black')\n",
    "        cm = matplotlib.cm.PuBu\n",
    "        width = 0.006\n",
    "        vel_index = 0 \n",
    "        for j in range(len(r)):\n",
    "            if j%2 == 0:\n",
    "                # compute v/vmax \n",
    "                m1 = np.sqrt(data[vel_index][2][i]**2 + data[vel_index][1][i]**2)/max([np.sqrt(a**2 + b**2) for a,b in zip(data[vel_index][2],data[vel_index][1])])\n",
    "                # draw quiver \n",
    "                plt.quiver(r[j],z[j], data[vel_index][2][i], data[vel_index][1][i], scale = 0.2, color = cm(m1), width = width)\n",
    "            else:\n",
    "                m1 = np.sqrt(data[vel_index][5][i]**2 + data[vel_index][4][i]**2)/max([np.sqrt(a**2 + b**2) for a,b in zip(data[vel_index][5],data[vel_index][4])])\n",
    "                plt.quiver(r[j],z[j], -data[vel_index][5][i], data[vel_index][4][i], scale = 0.2, color = cm(m1), width = width)\n",
    "                vel_index += 1\n",
    "            plt.ylim(-10,0)\n",
    "            plt.xlim(-15,15)\n",
    "            plt.xlabel(\"R (cm)\", fontsize = 15)\n",
    "            plt.ylabel(\"Z (cm)\", fontsize = 15)\n",
    "\n",
    "            # color bar settings\n",
    "            norm = matplotlib.colors.Normalize()\n",
    "            mag = np.linspace(0,1,100)\n",
    "            norm.autoscale(mag)\n",
    "            scale_length = np.sqrt(2)  # Length of the scale bar in your desired units\n",
    "            scale_x = 6  # x-coordinate of the scale bar's starting point\n",
    "            scale_y = -8.2  # y-coordinate of the scale bar's starting point\n",
    "\n",
    "            axs[g * 3 + t].arrow(scale_x, scale_y, scale_length, 0, width=0.1, color='orange')  # Plotting the scale bar\n",
    "            axs[g * 3 + t].text(scale_x + scale_length/2, scale_y - 1.2, '0.01 m/s', ha='center', fontsize=7)  # Adding label\n",
    "\n",
    "            cm = matplotlib.cm.PuBu\n",
    "            sm = matplotlib.cm.ScalarMappable(cmap=cm, norm=norm)\n",
    "            sm.set_array([])\n",
    "        fig.colorbar(sm,shrink=0.4,label=r'$v / |v_{max}|$')\n",
    "\n",
    "        plt.savefig(\"temp.png\", dpi=400, bbox_inches='tight')\n",
    "        plt.close()  # Close the figure to free up memory\n",
    "        # Read the temporary image and append it to the GIF\n",
    "        image = imageio.imread(\"temp.png\")\n",
    "        writer.append_data(image)\n",
    "        print(str(\"{:.2f}\".format(i*100/iterations))+\"%\"+\" \"+\"done\", end='\\r')\n",
    "    # Close the GIF writer\n",
    "    writer.close()\n",
    "    ## now save a movie\n",
    "    # Load the GIF file\n",
    "    gif_path = str(angle)+\"gf.gif\"\n",
    "    clip = mp.VideoFileClip(gif_path)\n",
    "    # Set the output file path and format\n",
    "    output_path = str(angle)+\"movie.mp4\"\n",
    "    # Set the video parameters\n",
    "    codec = 'mpeg4'  # Video codec (e.g., H.264)\n",
    "    bitrate = '10M'  # Target bitrate (e.g., 10 Mbps)\n",
    "    # Convert the GIF to MP4 with increased quality\n",
    "    clip.write_videofile(output_path, codec=codec, bitrate=bitrate, fps=fps)\n",
    "    \n",
    "    \n",
    "def create_comp_graph(pulse_angle_list, angle_list, time_list):\n",
    "    fig, axs = plt.subplots(3, 3, figsize=(10.3, 4), sharex=True, sharey=True)\n",
    "    gs = fig.add_gridspec(3, 3, hspace=0, wspace=0)\n",
    "    axs = axs.flatten()\n",
    "    for t in range(np.shape(time_list)[0]):\n",
    "        t1 = time_list[t]\n",
    "        for g in range(np.shape(angle_list)[0]):\n",
    "            axs[g * 3 + t].set_ylim(-10, 1)\n",
    "            axs[g * 3 + t].set_xlim(-14.5, 14.5)\n",
    "            data = pulse_angle_list[g]\n",
    "            axs[g * 3 + t].set_aspect('equal')\n",
    "            axs[g * 3 + t].text(-2, -4.7, r\"$\\theta_i=$\" + str(angle_list[g]) + r\"$^\\circ$\", fontsize=9)\n",
    "            axs[g * 3 + t].text(-4.5, -7, 'Time: ' + str(\"%.2f\" % data[0][0][t1]) + 'ms', fontsize=9)\n",
    "            axs[g * 3 + t].quiver(0, 0, np.cos(angle_list[g] * np.pi / 180), -np.sin(angle_list[g] * np.pi / 180), scale=7, color='red')\n",
    "            if angle_list[g] == 20:\n",
    "                axs[g * 3 + t].quiver(0, 0, np.cos(16 * np.pi / 180), np.sin(16 * np.pi / 180), scale=7/(46/100), color='blue')\n",
    "            axs[g * 3 + t].plot(0, 0, 'o', color='red', markersize=6)\n",
    "            y = np.linspace(0, 0, 200)\n",
    "            x = np.linspace(-25, 25, 200)\n",
    "            axs[g * 3 + t].plot(x, y, linewidth=3, color='grey', alpha=0.5)\n",
    "            axs[g * 3 + t].plot(r, z, 'o', markersize=0.5, color='black')\n",
    "            \n",
    "            scale_length = np.sqrt(2)  # Length of the scale bar in your desired units\n",
    "            scale_x = 6  # x-coordinate of the scale bar's starting point\n",
    "            scale_y = -8.2  # y-coordinate of the scale bar's starting point\n",
    "\n",
    "            axs[g * 3 + t].arrow(scale_x, scale_y, scale_length, 0, width=0.1, color='orange')  # Plotting the scale bar\n",
    "            axs[g * 3 + t].text(scale_x + scale_length/2, scale_y - 1.2, '0.01 m/s', ha='center', fontsize=7)  # Adding label\n",
    "\n",
    "            cm = matplotlib.cm.PuBu\n",
    "            width = 0.006\n",
    "            vel_index = 0\n",
    "            for j in range(len(r)):\n",
    "                if j % 2 == 0:\n",
    "                    m1 = np.sqrt(data[vel_index][2][t1] ** 2 + data[vel_index][1][t1] ** 2) / max([np.sqrt(a ** 2 + b ** 2) for a, b in zip(data[vel_index][2], data[vel_index][1])])\n",
    "                    axs[g * 3 + t].quiver(r[j], z[j], data[vel_index][2][t1], data[vel_index][1][t1], scale=0.2, color=cm(m1), width=width)\n",
    "                else:\n",
    "                    m1 = np.sqrt(data[vel_index][5][t1] ** 2 + data[vel_index][4][t1] ** 2) / max([np.sqrt(a ** 2 + b ** 2) for a, b in zip(data[vel_index][5], data[vel_index][4])])\n",
    "                    axs[g * 3 + t].quiver(r[j], z[j], -data[vel_index][5][t1], data[vel_index][4][t1], scale=0.2, color=cm(m1), width=width)\n",
    "                    vel_index += 1\n",
    "    axs[7].set_xlabel(\"R (cm)\", fontsize=11)\n",
    "    axs[3].set_ylabel(\"Z (cm)\", fontsize=11)\n",
    "\n",
    "    norm = matplotlib.colors.Normalize()\n",
    "    mag = np.linspace(0, 1, 100)\n",
    "    norm.autoscale(mag)\n",
    "    cm = matplotlib.cm.PuBu\n",
    "    sm = matplotlib.cm.ScalarMappable(cmap=cm, norm=norm)\n",
    "    sm.set_array([])\n",
    "    cbar_ax = fig.add_axes([0.930, 0.12, 0.008, 0.75])\n",
    "    fig.colorbar(sm, label=r'$|v| / |v|_{pk}$', shrink=1, cax=cbar_ax)\n",
    "    plt.subplots_adjust(wspace=0, hspace=0)\n",
    "    plt.savefig('oblique_quiver_angle.png', dpi=800)"
   ]
  },
  {
   "cell_type": "code",
   "execution_count": 4,
   "id": "231300ca",
   "metadata": {},
   "outputs": [],
   "source": [
    "trial_start = 55 # serial nuumber in the file \n",
    "trial_end = 63\n",
    "num_of_trials = trial_end-trial_start+1 # trial number start to end \n",
    "time_cutoff = [591.04,576.36,573.17,569.81,577.00,583.06,592.80,592.16,601.10]\n",
    "acc60 = [] # store data \n",
    "# data structure \n",
    "# [t1c, t1f, t2c, t2f, ...]\n",
    "\n",
    "## pack all the data\n",
    "for i in range(num_of_trials):\n",
    "    acc60.append(pack('t'+str(trial_start+i)+'c'+'.csv', [0,1,2,3,4,5,6], conv_12)) # tc \n",
    "    acc60.append(pack('t'+str(trial_start+i)+'f'+'.csv', [0,1,2,3,4,5,6], conv_57)) # tf"
   ]
  },
  {
   "cell_type": "code",
   "execution_count": 5,
   "id": "cd0e9d03",
   "metadata": {},
   "outputs": [],
   "source": [
    "acc60 = align(acc60,time_cutoff)\n",
    "vel60 = integrate(acc60)\n",
    "#create_gv(vel60, 1200, 5, 60, 60)"
   ]
  },
  {
   "cell_type": "code",
   "execution_count": 6,
   "id": "ef1706b2",
   "metadata": {},
   "outputs": [],
   "source": [
    "trial_start = 64 # serial nuumber in the file \n",
    "trial_end = 72\n",
    "num_of_trials = trial_end-trial_start+1 # trial number start to end \n",
    "time_cutoff = [575.88,577.95,581.78,587.69,582.90,573.01,575.08,577.32,587.69]\n",
    "acc40 = [] # store data \n",
    "# data structure \n",
    "# [t1c, t1f, t2c, t2f, ...]\n",
    "\n",
    "## pack all the data\n",
    "for i in range(num_of_trials):\n",
    "    acc40.append(pack('t'+str(trial_start+i)+'c'+'.csv', [0,1,2,3,4,5,6], conv_12)) # tc \n",
    "    acc40.append(pack('t'+str(trial_start+i)+'f'+'.csv', [0,1,2,3,4,5,6], conv_57)) # tf"
   ]
  },
  {
   "cell_type": "code",
   "execution_count": 7,
   "id": "47bb50fd",
   "metadata": {},
   "outputs": [],
   "source": [
    "acc40 = align(acc40,time_cutoff)\n",
    "vel40 = integrate(acc40)"
   ]
  },
  {
   "cell_type": "code",
   "execution_count": 8,
   "id": "9dfcb0dc",
   "metadata": {},
   "outputs": [],
   "source": [
    "#create_gv(vel40, 1200, 5, 60, 40)"
   ]
  },
  {
   "cell_type": "code",
   "execution_count": 9,
   "id": "0868a262",
   "metadata": {},
   "outputs": [],
   "source": [
    "trial_start = 73 # serial number in the file \n",
    "trial_end = 81\n",
    "num_of_trials = trial_end-trial_start+1 # trial number start to end \n",
    "time_cutoff = [600.0,596.2,589.2,581.5,578,579.2,582.4,595.2,594.7]\n",
    "acc20 = [] # store data \n",
    "# data structure \n",
    "# [t1c, t1f, t2c, t2f, ...]\n",
    "\n",
    "## pack all the data\n",
    "for i in range(num_of_trials):\n",
    "    acc20.append(pack('t'+str(trial_start+i)+'c'+'.csv', [0,1,2,3,4,5,6], conv_12)) # tc \n",
    "    acc20.append(pack('t'+str(trial_start+i)+'f'+'.csv', [0,1,2,3,4,5,6], conv_57)) # tf"
   ]
  },
  {
   "cell_type": "code",
   "execution_count": 10,
   "id": "6bcc6eda",
   "metadata": {},
   "outputs": [],
   "source": [
    "acc20 = align(acc20,time_cutoff)\n",
    "vel20 = integrate(acc20)"
   ]
  },
  {
   "cell_type": "code",
   "execution_count": 11,
   "id": "19ab010d",
   "metadata": {},
   "outputs": [],
   "source": [
    "#create_gv(vel20, 1200, 5, 60, 20)"
   ]
  },
  {
   "cell_type": "code",
   "execution_count": 12,
   "id": "774ad32a",
   "metadata": {},
   "outputs": [
    {
     "data": {
      "image/png": "[encoded data removed]",
      "text/plain": [
       "<Figure size 741.6x288 with 10 Axes>"
      ]
     },
     "metadata": {
      "needs_background": "light"
     },
     "output_type": "display_data"
    }
   ],
   "source": [
    "pulse_angle_list = [vel20,vel40,vel60]\n",
    "angle_list = [20,40,60]\n",
    "create_comp_graph(pulse_angle_list, angle_list, [200,400,600])"
   ]
  },
  {
   "cell_type": "code",
   "execution_count": 35,
   "id": "d27a080c",
   "metadata": {},
   "outputs": [],
   "source": [
    "def create_comp_graph(pulse_angle_list, angle_list, time):\n",
    "    fig, axs = plt.subplots(3, 1, sharex=True, sharey=True)\n",
    "    gs = fig.add_gridspec(3, 1, hspace=0, wspace=0)\n",
    "    axs = axs.flatten()\n",
    "    t1 = time\n",
    "    for g in range(np.shape(angle_list)[0]):\n",
    "        axs[g].set_ylim(-10.5, 1)\n",
    "        axs[g].set_xlim(-14.5, 14.5)\n",
    "        data = pulse_angle_list[g]\n",
    "        axs[g].set_aspect('equal')\n",
    "        axs[g].text(-1.5, -5.5, r\"$\\theta_i=$\" + str(angle_list[g]) + r\"$^\\circ$\", fontsize=7)\n",
    "        axs[g].text(-3.5, -6.7, 'Time: ' + str(\"%.2f\" % data[0][0][t1]) + 'ms', fontsize=7)\n",
    "        axs[g].quiver(0, 0, np.cos(angle_list[g] * np.pi / 180), -np.sin(angle_list[g] * np.pi / 180), scale=7, color='red')\n",
    "        axs[g].plot(0, 0, 'o', color='red', markersize=6)\n",
    "        y = np.linspace(0, 0, 200)\n",
    "        x = np.linspace(-25, 25, 200)\n",
    "        axs[g].plot(x, y, linewidth=3, color='grey', alpha=0.5)\n",
    "        axs[g].plot(r, z, 'o', markersize=0.5, color='black')\n",
    "        scale_length = np.sqrt(2)  # Length of the scale bar in your desired units\n",
    "        scale_x = 6  # x-coordinate of the scale bar's starting point\n",
    "        scale_y = -8.2  # y-coordinate of the scale bar's starting point\n",
    "        axs[g].arrow(scale_x, scale_y, scale_length, 0, width=0.1, color='orange')  # Plotting the scale bar\n",
    "        axs[g].text(scale_x + scale_length/2, scale_y - 1.2, '0.01 m/s', ha='center', fontsize=7)  # Adding label\n",
    "        cm = matplotlib.cm.PuBu\n",
    "        width = 0.006\n",
    "        vel_index = 0\n",
    "        axs[0].quiver(0, 0, np.cos(16 * np.pi / 180), np.sin(16 * np.pi / 180), scale=7/(46/100), color='blue')\n",
    "        for j in range(len(r)):\n",
    "            if j % 2 == 0:\n",
    "                m1 = np.sqrt(data[vel_index][2][t1] ** 2 + data[vel_index][1][t1] ** 2) / max([np.sqrt(a ** 2 + b ** 2) for a, b in zip(data[vel_index][2], data[vel_index][1])])\n",
    "                axs[g].quiver(r[j], z[j], data[vel_index][2][t1], data[vel_index][1][t1], scale=0.2, color=cm(m1), width=width)\n",
    "            else:\n",
    "                m1 = np.sqrt(data[vel_index][5][t1] ** 2 + data[vel_index][4][t1] ** 2) / max([np.sqrt(a ** 2 + b ** 2) for a, b in zip(data[vel_index][5], data[vel_index][4])])\n",
    "                axs[g].quiver(r[j], z[j], -data[vel_index][5][t1], data[vel_index][4][t1], scale=0.2, color=cm(m1), width=width)\n",
    "                vel_index += 1\n",
    "            \n",
    "    axs[2].set_xlabel(\"R (cm)\", fontsize=11)\n",
    "    axs[1].set_ylabel(\"Z (cm)\", fontsize=11)\n",
    "\n",
    "    norm = matplotlib.colors.Normalize()\n",
    "    mag = np.linspace(0, 1, 100)\n",
    "    norm.autoscale(mag)\n",
    "    cm = matplotlib.cm.PuBu\n",
    "    sm = matplotlib.cm.ScalarMappable(cmap=cm, norm=norm)\n",
    "    sm.set_array([])\n",
    "    cbar_ax = fig.add_axes([0.790, 0.12, 0.008, 0.75])\n",
    "    fig.colorbar(sm, label=r'$|v| / |v|_{pk}$', shrink=1, cax=cbar_ax)\n",
    "    plt.subplots_adjust(wspace=0, hspace=0)"
   ]
  },
  {
   "cell_type": "code",
   "execution_count": 36,
   "id": "c87ca59a",
   "metadata": {},
   "outputs": [
    {
     "data": {
      "image/png": "[encoded data removed]",
      "text/plain": [
       "<Figure size 432x288 with 4 Axes>"
      ]
     },
     "metadata": {
      "needs_background": "light"
     },
     "output_type": "display_data"
    }
   ],
   "source": [
    "create_comp_graph(pulse_angle_list, angle_list, 200)"
   ]
  },
  {
   "cell_type": "code",
   "execution_count": 37,
   "id": "ef21bc2b",
   "metadata": {},
   "outputs": [],
   "source": [
    "def create_comp_gv(pulse_angle_list,angle_list,iterations, sp, fps):\n",
    "    # Create the GIF Video writer\n",
    "    writer = imageio.get_writer('angle_comp'+\"gf.gif\", mode='I', duration=1/fps)\n",
    "    for i in range(0,iterations,sp):\n",
    "        create_comp_graph(pulse_angle_list, angle_list, i)\n",
    "        plt.savefig(\"temp.png\", dpi=400, bbox_inches='tight')\n",
    "        plt.close()  # Close the figure to free up memory\n",
    "        # Read the temporary image and append it to the GIF\n",
    "        image = imageio.imread(\"temp.png\")\n",
    "        writer.append_data(image)\n",
    "        print(str(\"{:.2f}\".format(i*100/iterations))+\"%\"+\" \"+\"done\", end='\\r')\n",
    "    # Close the GIF writer\n",
    "    writer.close()\n",
    "    ## now save a movie\n",
    "    # Load the GIF file\n",
    "    gif_path = 'angle_comp'+\"gf.gif\"\n",
    "    clip = mp.VideoFileClip(gif_path)\n",
    "    # Set the output file path and format\n",
    "    output_path = 'angle_comp'+\"movie.mp4\"\n",
    "    # Set the video parameters\n",
    "    codec = 'mpeg4'  # Video codec (e.g., H.264)\n",
    "    bitrate = '10M'  # Target bitrate (e.g., 10 Mbps)\n",
    "    # Convert the GIF to MP4 with increased quality\n",
    "    clip.write_videofile(output_path, codec=codec, bitrate=bitrate, fps=fps)"
   ]
  },
  {
   "cell_type": "code",
   "execution_count": 38,
   "id": "63dd7287",
   "metadata": {},
   "outputs": [
    {
     "name": "stdout",
     "output_type": "stream",
     "text": [
      "99.58% done\r"
     ]
    },
    {
     "name": "stderr",
     "output_type": "stream",
     "text": [
      "t:   1%|▍                             | 4/288 [00:00<00:08, 35.34it/s, now=None]"
     ]
    },
    {
     "name": "stdout",
     "output_type": "stream",
     "text": [
      "Moviepy - Building video angle_compmovie.mp4.\n",
      "Moviepy - Writing video angle_compmovie.mp4\n",
      "\n"
     ]
    },
    {
     "name": "stderr",
     "output_type": "stream",
     "text": [
      "                                                                                \r"
     ]
    },
    {
     "name": "stdout",
     "output_type": "stream",
     "text": [
      "Moviepy - Done !\n",
      "Moviepy - video ready angle_compmovie.mp4\n"
     ]
    }
   ],
   "source": [
    "create_comp_gv(pulse_angle_list,angle_list,1200, 5, 60)"
   ]
  }
 ],
 "metadata": {
  "kernelspec": {
   "display_name": "Python 3 (ipykernel)",
   "language": "python",
   "name": "python3"
  },
  "language_info": {
   "codemirror_mode": {
    "name": "ipython",
    "version": 3
   },
   "file_extension": ".py",
   "mimetype": "text/x-python",
   "name": "python",
   "nbconvert_exporter": "python",
   "pygments_lexer": "ipython3",
   "version": "3.9.5"
  }
 },
 "nbformat": 4,
 "nbformat_minor": 5
}
